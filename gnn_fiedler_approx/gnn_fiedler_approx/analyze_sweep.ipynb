{
 "cells": [
  {
   "cell_type": "markdown",
   "id": "c9019ebe",
   "metadata": {},
   "source": [
    "# Import libraries"
   ]
  },
  {
   "cell_type": "code",
   "execution_count": null,
   "id": "a4bae8f3",
   "metadata": {},
   "outputs": [],
   "source": [
    "import pandas as pd\n",
    "import plotly.express as px\n",
    "import plotly.io as pio\n",
    "# pio.templates.default = \"plotly_white\""
   ]
  },
  {
   "cell_type": "markdown",
   "id": "a95211d5",
   "metadata": {},
   "source": [
    "# Load the csv file with results into a pandas dataframe"
   ]
  },
  {
   "cell_type": "code",
   "execution_count": null,
   "id": "be901e85",
   "metadata": {},
   "outputs": [],
   "source": [
    "df = pd.read_csv(\"../results/regularizing_sweep.csv\")\n",
    "df.head()"
   ]
  },
  {
   "cell_type": "markdown",
   "id": "4144872d",
   "metadata": {},
   "source": [
    "# Draw boxplots to compare hyperparameter settings"
   ]
  },
  {
   "cell_type": "code",
   "execution_count": null,
   "id": "e6253ef8",
   "metadata": {},
   "outputs": [],
   "source": [
    "from plotly.subplots import make_subplots\n",
    "import plotly.graph_objects as go\n",
    "\n",
    "hyperparameters = [\"architecture\", \"gnn_layers\", \"hidden_channels\", \"jk\", \"pool\", \"activation\", \"norm\", \"transform\", \"dropout\"]\n",
    "metrics_to_plot = [\"good_within.99\", \"good_within.95\"]\n",
    "\n",
    "df = df.fillna(value=\"none\")\n",
    "\n",
    "for hyperparameter in hyperparameters:\n",
    "    # Create a temporary dataframe for plotting, dropping rows where the hyperparameter is null\n",
    "    plot_df = df\n",
    "\n",
    "    # Filter out some values\n",
    "    # plot_df = plot_df[~plot_df[\"pool\"].isin([\"median\"])]\n",
    "    # # plot_df = plot_df[plot_df[\"gnn_layers\"] == 5]\n",
    "    # plot_df = plot_df[plot_df[\"hidden_channels\"] == 64]\n",
    "\n",
    "    # Get the actual categories present in the data\n",
    "    actual_categories = sorted(plot_df[hyperparameter].unique())\n",
    "\n",
    "    # Create subplots\n",
    "    fig = make_subplots(\n",
    "        rows=1, cols=2,\n",
    "        subplot_titles=(f\"Metrics vs {hyperparameter}\", f\"Duration vs {hyperparameter}\"),\n",
    "        horizontal_spacing=0.1\n",
    "    )\n",
    "\n",
    "    # Add main metrics to left subplot\n",
    "    for i, metric in enumerate(metrics_to_plot):\n",
    "        fig.add_trace(\n",
    "            go.Box(x=plot_df[hyperparameter], y=plot_df[metric],\n",
    "                   name=metric, boxmean=True,\n",
    "                   marker_color=px.colors.qualitative.Plotly[i],\n",
    "                   offsetgroup=str(i)),\n",
    "            row=1, col=1\n",
    "        )\n",
    "\n",
    "    # Add duration metric to right subplot\n",
    "    fig.add_trace(\n",
    "        go.Box(x=plot_df[hyperparameter], y=plot_df['duration'],\n",
    "               name='duration', boxmean=True,\n",
    "               marker_color=px.colors.qualitative.Plotly[2],\n",
    "               showlegend=False,\n",
    "               offsetgroup='duration',\n",
    "               width=0.6),\n",
    "        row=1, col=2\n",
    "    )\n",
    "\n",
    "    # Update layout for both subplots\n",
    "    fig.update_xaxes(\n",
    "        type='category',\n",
    "        categoryorder='array',\n",
    "        categoryarray=actual_categories,\n",
    "        row=1, col=1\n",
    "    )\n",
    "    fig.update_xaxes(\n",
    "        type='category',\n",
    "        categoryorder='array',\n",
    "        categoryarray=actual_categories,\n",
    "        row=1, col=2\n",
    "    )\n",
    "\n",
    "    fig.update_layout(\n",
    "        title=f\"Analysis of {hyperparameter}\",\n",
    "        height=400,\n",
    "        boxmode='group',\n",
    "        boxgap=0.2,\n",
    "        boxgroupgap=0.1\n",
    "    )\n",
    "    fig.show()"
   ]
  },
  {
   "cell_type": "markdown",
   "id": "fc04c738",
   "metadata": {},
   "source": [
    "# Best model for specified hyperparameter value"
   ]
  },
  {
   "cell_type": "code",
   "execution_count": null,
   "id": "54c6a3f3",
   "metadata": {},
   "outputs": [],
   "source": [
    "hyperparameter = \"architecture\"\n",
    "metric = \"good_within.99\"\n",
    "\n",
    "best_runs = df.loc[df.groupby(hyperparameter)[metric].idxmax()]\n",
    "best_runs.head()"
   ]
  }
 ],
 "metadata": {
  "kernelspec": {
   "display_name": "graphs_venv",
   "language": "python",
   "name": "python3"
  },
  "language_info": {
   "codemirror_mode": {
    "name": "ipython",
    "version": 3
   },
   "file_extension": ".py",
   "mimetype": "text/x-python",
   "name": "python",
   "nbconvert_exporter": "python",
   "pygments_lexer": "ipython3",
   "version": "3.10.12"
  }
 },
 "nbformat": 4,
 "nbformat_minor": 5
}
