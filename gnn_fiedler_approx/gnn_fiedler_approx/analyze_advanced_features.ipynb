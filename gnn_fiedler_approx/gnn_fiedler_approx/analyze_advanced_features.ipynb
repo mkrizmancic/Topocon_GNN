{
 "cells": [
  {
   "cell_type": "code",
   "execution_count": null,
   "metadata": {},
   "outputs": [],
   "source": [
    "import pathlib\n",
    "import pandas as pd\n",
    "import wandb\n",
    "api = wandb.Api()\n"
   ]
  },
  {
   "cell_type": "markdown",
   "metadata": {},
   "source": [
    "### Download all runs from a sweep and store data in a csv."
   ]
  },
  {
   "cell_type": "code",
   "execution_count": null,
   "metadata": {},
   "outputs": [],
   "source": [
    "# Labels all\n",
    "sweep_id = \"fh8c8zkv\"\n",
    "\n",
    "save_path = pathlib.Path().cwd() / \"Results\"  # For Jupyter notebook."
   ]
  },
  {
   "cell_type": "code",
   "execution_count": null,
   "metadata": {},
   "outputs": [],
   "source": [
    "# Project is specified by <entity/project-name>\n",
    "sweep = api.sweep(f\"marko-krizmancic/gnn_fiedler_approx_v2/{sweep_id}\")  # labels_all\n",
    "runs = sweep.runs\n",
    "\n",
    "summary_fields = ['best_train_loss', 'best_val_loss', 'mean_err', 'stddev_err', 'duration', 'good_within']\n",
    "config_fields = ['selected_features']\n",
    "base_features = {'degree', 'betweenness_centrality'}\n",
    "\n",
    "records = []\n",
    "for run in runs:\n",
    "    summary = {}\n",
    "    for k in summary_fields:\n",
    "        if k == \"good_within\":\n",
    "            good_within = {f\"{k}.{k2}\": v2 for k2, v2 in run.summary[k].items()}\n",
    "            summary.update(good_within)\n",
    "        else:\n",
    "            summary[k] = run.summary[k]\n",
    "\n",
    "    config = {}\n",
    "    base_feature_set = set(run.config[\"selected_features\"]) & base_features\n",
    "    if len(base_feature_set) == 0:\n",
    "        config[\"base_feature\"] = \"none\"\n",
    "    elif len(base_feature_set) == 1:\n",
    "        config[\"base_feature\"] = base_feature_set.pop()\n",
    "    else:\n",
    "        config[\"base_feature\"] = \"degree\"\n",
    "\n",
    "    test_feature_set = set(run.config[\"selected_features\"]) - set([config[\"base_feature\"]])\n",
    "    if len(test_feature_set) == 0:\n",
    "        config[\"test_feature\"], config[\"base_feature\"] = config[\"base_feature\"], \"none\"\n",
    "    else:\n",
    "        config[\"test_feature\"] = test_feature_set.pop()\n",
    "\n",
    "    info = {\"name\": run.name, \"id\": run.id}\n",
    "    records.append({**info, **config, **summary})\n",
    "\n",
    "df = pd.DataFrame.from_records(records)\n",
    "df['base_feature'] = pd.Categorical(df['base_feature'], categories=sorted(df['base_feature'].unique(), reverse=True), ordered=True)\n",
    "df = df.sort_values('base_feature').reset_index(drop=True)\n",
    "df\n"
   ]
  },
  {
   "cell_type": "code",
   "execution_count": null,
   "metadata": {},
   "outputs": [],
   "source": [
    "import plotly.express as px\n",
    "\n",
    "only_degree_baseline = working_df.loc[(working_df['base_feature'] == 'none') & (working_df['test_feature'] == 'degree')]['good_within.99'].values[0]\n",
    "only_betweenness_baseline = working_df.loc[(working_df['base_feature'] == 'none') & (working_df['test_feature'] == 'betweenness_centrality')]['good_within.99'].values[0]\n",
    "degree_and_betweenness_baseline = working_df.loc[(working_df['base_feature'] == 'degree') & (working_df['test_feature'] == 'betweenness_centrality')]['good_within.99'].values[0]\n",
    "\n",
    "print(only_degree_baseline)\n",
    "fig = px.histogram(\n",
    "    working_df,\n",
    "    x=\"test_feature\",\n",
    "    y=\"good_within.99\",\n",
    "    color=\"base_feature\",\n",
    "    barmode=\"group\",\n",
    ")\n",
    "fig.add_hline(y=only_degree_baseline, line_dash=\"dash\", line_color=px.colors.qualitative.Plotly[0])\n",
    "fig.add_hline(y=degree_and_betweenness_baseline, line_dash=\"dash\", line_color=px.colors.qualitative.Plotly[1])\n",
    "fig.add_hline(y=only_betweenness_baseline, line_dash=\"dash\", line_color=px.colors.qualitative.Plotly[2])\n",
    "\n",
    "fig.show()"
   ]
  },
  {
   "cell_type": "markdown",
   "metadata": {},
   "source": [
    "### Analyze selected features\n"
   ]
  },
  {
   "cell_type": "code",
   "execution_count": null,
   "metadata": {},
   "outputs": [],
   "source": [
    "# Labels all\n",
    "sweep_id = \"uw292q9u\"\n",
    "\n",
    "save_path = pathlib.Path().cwd() / \"Results\"  # For Jupyter notebook."
   ]
  },
  {
   "cell_type": "code",
   "execution_count": null,
   "metadata": {},
   "outputs": [],
   "source": [
    "# Project is specified by <entity/project-name>\n",
    "sweep = api.sweep(f\"marko-krizmancic/gnn_fiedler_approx_v2/{sweep_id}\")  # labels_all\n",
    "runs = sweep.runs\n",
    "\n",
    "summary_fields = ['best_train_loss', 'best_val_loss', 'mean_err', 'stddev_err', 'duration', 'good_within']\n",
    "\n",
    "records = []\n",
    "for run in runs:\n",
    "    summary = {}\n",
    "    for k in summary_fields:\n",
    "        if k == \"good_within\":\n",
    "            good_within = {f\"{k}.{k2}\": v2 for k2, v2 in run.summary[k].items()}\n",
    "            summary.update(good_within)\n",
    "        else:\n",
    "            summary[k] = run.summary[k]\n",
    "\n",
    "    config = {}\n",
    "    config[\"selected_features\"] = run.config[\"selected_features\"]\n",
    "    config[\"learning_rate\"] = run.config[\"learning_rate\"]\n",
    "\n",
    "    info = {\"name\": run.name, \"id\": run.id}\n",
    "    records.append({**info, **config, **summary})\n",
    "\n",
    "df = pd.DataFrame.from_records(records)\n",
    "df\n"
   ]
  },
  {
   "cell_type": "code",
   "execution_count": null,
   "metadata": {},
   "outputs": [],
   "source": [
    "import plotly.graph_objects as go\n",
    "\n",
    "options = [\n",
    "    [\"degree\", \"degree_centrality\"],\n",
    "    [\"degree\", \"degree_centrality\", \"betweenness_centrality\"],\n",
    "    [\"degree\", \"degree_centrality\", \"core_number\", \"triangles\", \"clustering\", \"close_centrality\"]\n",
    "]\n",
    "variants = [\"K_cycle_count_matrix\", \"A_matrix_row\", \"random_walk_pe\"]\n",
    "\n",
    "# Prepare data for plotting\n",
    "def get_option_label(option):\n",
    "    return \", \".join(option)\n",
    "\n",
    "plot_data = []\n",
    "group_labels = [\"No additional\"] + variants\n",
    "option_labels = [get_option_label(opt) for opt in options]\n",
    "\n",
    "working_df = df[df['learning_rate'] > 0.003]  # Adjust this value as needed\n",
    "\n",
    "for group in group_labels:\n",
    "    for i, option in enumerate(options):\n",
    "        # Build the expected selected_features list\n",
    "        if group == \"No additional\":\n",
    "            features = option\n",
    "        else:\n",
    "            features = option + [group]\n",
    "        # Find the row in df matching this combination\n",
    "        match = working_df[working_df['selected_features'].apply(lambda x: set(x) == set(features))]\n",
    "        y_val = match['good_within.99'].values[0] if not match.empty else None\n",
    "        plot_data.append({\n",
    "            \"group\": group,\n",
    "            \"option\": option_labels[i],\n",
    "            \"good_within.99\": y_val\n",
    "        })\n",
    "\n",
    "# Convert to DataFrame for easier plotting\n",
    "plot_df = pd.DataFrame(plot_data)\n",
    "\n",
    "# Create grouped bar chart\n",
    "fig = go.Figure()\n",
    "for option in option_labels:\n",
    "    fig.add_trace(go.Bar(\n",
    "        x=group_labels,\n",
    "        y=[plot_df[(plot_df['group'] == group) & (plot_df['option'] == option)]['good_within.99'].values[0] for group in group_labels],\n",
    "        name=option\n",
    "    ))\n",
    "\n",
    "fig.update_layout(\n",
    "    barmode='group',\n",
    "    xaxis_title=\"Variant\",\n",
    "    yaxis_title=\"good_within.99\",\n",
    "    title=\"Grouped Bar Chart of Experiments by Selected Features and Variant\"\n",
    ")\n",
    "fig.show()\n",
    "\n"
   ]
  }
 ],
 "metadata": {
  "kernelspec": {
   "display_name": "graphs_venv",
   "language": "python",
   "name": "python3"
  },
  "language_info": {
   "codemirror_mode": {
    "name": "ipython",
    "version": 3
   },
   "file_extension": ".py",
   "mimetype": "text/x-python",
   "name": "python",
   "nbconvert_exporter": "python",
   "pygments_lexer": "ipython3",
   "version": "3.10.12"
  }
 },
 "nbformat": 4,
 "nbformat_minor": 2
}
